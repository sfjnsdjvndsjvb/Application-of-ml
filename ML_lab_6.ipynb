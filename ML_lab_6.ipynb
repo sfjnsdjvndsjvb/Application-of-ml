{
  "nbformat": 4,
  "nbformat_minor": 0,
  "metadata": {
    "colab": {
      "provenance": []
    },
    "kernelspec": {
      "name": "python3",
      "display_name": "Python 3"
    },
    "language_info": {
      "name": "python"
    }
  },
  "cells": [
    {
      "cell_type": "code",
      "execution_count": null,
      "metadata": {
        "id": "Kf6d-IsXOSD0"
      },
      "outputs": [],
      "source": [
        "#perform the anova testing using python"
      ]
    },
    {
      "cell_type": "code",
      "source": [
        "from scipy.stats import f_oneway"
      ],
      "metadata": {
        "id": "33JXGvHFOkZg"
      },
      "execution_count": null,
      "outputs": []
    },
    {
      "cell_type": "code",
      "source": [
        "# Example data: heights of students in different classes\n",
        "class1_heights = [160, 165, 170, 175, 180]\n",
        "class2_heights = [155, 158, 162, 168, 172]\n",
        "class3_heights = [150, 155, 160, 165, 170]"
      ],
      "metadata": {
        "id": "8taeHxfNPNXf"
      },
      "execution_count": null,
      "outputs": []
    },
    {
      "cell_type": "code",
      "source": [
        "# Performing ANOVA test\n",
        "f_statistic, p_value = f_oneway(class1_heights, class2_heights, class3_heights)"
      ],
      "metadata": {
        "id": "2t6GDqOQPQfh"
      },
      "execution_count": null,
      "outputs": []
    },
    {
      "cell_type": "code",
      "source": [
        "# Printing results\n",
        "print(\"F statistic:\", f_statistic)\n",
        "print(\"P-value:\", p_value)"
      ],
      "metadata": {
        "colab": {
          "base_uri": "https://localhost:8080/"
        },
        "id": "fcooqKuePTQf",
        "outputId": "401fad41-f8d2-4cc2-9edc-9e965c76874b"
      },
      "execution_count": null,
      "outputs": [
        {
          "output_type": "stream",
          "name": "stdout",
          "text": [
            "F statistic: 2.270114942528737\n",
            "P-value: 0.1458270963476901\n"
          ]
        }
      ]
    },
    {
      "cell_type": "code",
      "source": [
        "# Interpretation\n",
        "alpha = 0.05\n",
        "if p_value < alpha:\n",
        "    print(\"Reject null hypothesis: There are statistically significant differences between the groups.\")\n",
        "else:\n",
        "    print(\"Fail to reject null hypothesis: There are no statistically significant differences between the groups.\")"
      ],
      "metadata": {
        "colab": {
          "base_uri": "https://localhost:8080/"
        },
        "id": "XX6ujqMEPVsT",
        "outputId": "a0b76bf1-481b-4e5d-f8f2-fb467d96810b"
      },
      "execution_count": null,
      "outputs": [
        {
          "output_type": "stream",
          "name": "stdout",
          "text": [
            "Fail to reject null hypothesis: There are no statistically significant differences between the groups.\n"
          ]
        }
      ]
    },
    {
      "cell_type": "code",
      "source": [],
      "metadata": {
        "id": "hSS4aJCvPWk_"
      },
      "execution_count": null,
      "outputs": []
    }
  ]
}